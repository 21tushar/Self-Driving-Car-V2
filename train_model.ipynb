{
 "cells": [
  {
   "cell_type": "code",
   "execution_count": 70,
   "metadata": {},
   "outputs": [],
   "source": [
    "# Import all packages\n",
    "import cv2\n",
    "import time\n",
    "import pickle\n",
    "import scipy\n",
    "import pandas as pd\n",
    "import numpy as np\n",
    "import matplotlib.pyplot as plt\n",
    "from sklearn.model_selection import train_test_split\n",
    "from sklearn.utils import shuffle\n",
    "import tensorflow as tf\n",
    "from tensorflow.python.framework import ops\n",
    "from tqdm import tqdm\n",
    "\n",
    "train_graph = tf.Graph()"
   ]
  },
  {
   "cell_type": "code",
   "execution_count": 2,
   "metadata": {},
   "outputs": [],
   "source": [
    "IMAGE_FOLDER = \"driving_dataset/\"\n",
    "DATA_FILE = \"driving_dataset/data.txt\"\n",
    "CHECKPOINT = \"./train_model.ckpt\""
   ]
  },
  {
   "cell_type": "code",
   "execution_count": 3,
   "metadata": {},
   "outputs": [],
   "source": [
    "f = open(DATA_FILE, 'r')\n",
    "info = []\n",
    "for line in f:\n",
    "    info.append(line.split())"
   ]
  },
  {
   "cell_type": "code",
   "execution_count": 4,
   "metadata": {},
   "outputs": [
    {
     "data": {
      "text/html": [
       "<div>\n",
       "<style scoped>\n",
       "    .dataframe tbody tr th:only-of-type {\n",
       "        vertical-align: middle;\n",
       "    }\n",
       "\n",
       "    .dataframe tbody tr th {\n",
       "        vertical-align: top;\n",
       "    }\n",
       "\n",
       "    .dataframe thead th {\n",
       "        text-align: right;\n",
       "    }\n",
       "</style>\n",
       "<table border=\"1\" class=\"dataframe\">\n",
       "  <thead>\n",
       "    <tr style=\"text-align: right;\">\n",
       "      <th></th>\n",
       "      <th>image_name</th>\n",
       "      <th>steering_angle</th>\n",
       "    </tr>\n",
       "  </thead>\n",
       "  <tbody>\n",
       "    <tr>\n",
       "      <th>0</th>\n",
       "      <td>0.jpg</td>\n",
       "      <td>0.000000</td>\n",
       "    </tr>\n",
       "    <tr>\n",
       "      <th>1</th>\n",
       "      <td>1.jpg</td>\n",
       "      <td>0.000000</td>\n",
       "    </tr>\n",
       "    <tr>\n",
       "      <th>2</th>\n",
       "      <td>2.jpg</td>\n",
       "      <td>0.000000</td>\n",
       "    </tr>\n",
       "    <tr>\n",
       "      <th>3</th>\n",
       "      <td>3.jpg</td>\n",
       "      <td>0.000000</td>\n",
       "    </tr>\n",
       "    <tr>\n",
       "      <th>4</th>\n",
       "      <td>4.jpg</td>\n",
       "      <td>0.000000</td>\n",
       "    </tr>\n",
       "  </tbody>\n",
       "</table>\n",
       "</div>"
      ],
      "text/plain": [
       "  image_name steering_angle\n",
       "0      0.jpg       0.000000\n",
       "1      1.jpg       0.000000\n",
       "2      2.jpg       0.000000\n",
       "3      3.jpg       0.000000\n",
       "4      4.jpg       0.000000"
      ]
     },
     "execution_count": 4,
     "metadata": {},
     "output_type": "execute_result"
    }
   ],
   "source": [
    "data = pd.DataFrame(info, columns=['image_name','steering_angle'])\n",
    "\n",
    "data.head()"
   ]
  },
  {
   "cell_type": "code",
   "execution_count": 49,
   "metadata": {},
   "outputs": [
    {
     "name": "stderr",
     "output_type": "stream",
     "text": [
      "45406it [02:17, 330.92it/s]\n"
     ]
    }
   ],
   "source": [
    "images = []\n",
    "labels = []\n",
    "\n",
    "for index, row in tqdm(data.iterrows()):\n",
    "    image = cv2.imread(IMAGE_FOLDER + row['image_name'])\n",
    "    resized_image = cv2.resize(image[-150:], (200,66))\n",
    "    images.append(resized_image)\n",
    "    labels.append(float(row['steering_angle']) * scipy.pi / 180)"
   ]
  },
  {
   "cell_type": "code",
   "execution_count": 50,
   "metadata": {},
   "outputs": [
    {
     "name": "stdout",
     "output_type": "stream",
     "text": [
      "Images shape: (45406, 66, 200, 3)\n",
      "Labels shape: (45406,)\n"
     ]
    }
   ],
   "source": [
    "# Convert the images and labels into numpy array\n",
    "images = np.array(images).astype('float32') / 255.0\n",
    "labels = np.array(labels).astype('float32')\n",
    "\n",
    "print(\"Images shape: \" + str(images.shape))\n",
    "print(\"Labels shape: \" + str(labels.shape))"
   ]
  },
  {
   "cell_type": "code",
   "execution_count": 65,
   "metadata": {},
   "outputs": [
    {
     "name": "stdout",
     "output_type": "stream",
     "text": [
      "Number of Training examples: 36324\n",
      "Number of Testing examples: 9082\n",
      "train_images shape: (36324, 66, 200, 3)\n",
      "test_images shape: (9082, 66, 200, 3)\n",
      "train_labels shape: (36324, 1)\n",
      "test_labels shape: (9082, 1)\n"
     ]
    }
   ],
   "source": [
    "# Shuffle the train images and split into trian and test data\n",
    "images, labels = shuffle(images, labels)\n",
    "train_images, test_images, train_labels, test_labels = train_test_split(images, labels, random_state=0, test_size=0.2)\n",
    "print(\"Number of Training examples: \" + str(train_images.shape[0]))\n",
    "print(\"Number of Testing examples: \" + str(test_images.shape[0]))\n",
    "\n",
    "# Reshape the images along with the number of channels\n",
    "print(\"train_images shape: \" + str(train_images.shape))\n",
    "print(\"test_images shape: \" + str(test_images.shape))\n",
    "\n",
    "# Reshape the labels too\n",
    "train_labels = train_labels.reshape(train_labels.shape[0], 1)\n",
    "test_labels = test_labels.reshape(test_labels.shape[0], 1)\n",
    "print(\"train_labels shape: \" + str(train_labels.shape))\n",
    "print(\"test_labels shape: \" + str(test_labels.shape))"
   ]
  },
  {
   "cell_type": "code",
   "execution_count": 71,
   "metadata": {},
   "outputs": [],
   "source": [
    "m = train_images.shape[0] # Number of training examples\n",
    "n_H = train_images.shape[1] # Images' height\n",
    "n_W = train_images.shape[2] # Images' width\n",
    "n_C = train_images.shape[3] # number of channels\n",
    "n_cls = train_labels.shape[1] # number of classes\n",
    "\n",
    "# Create placeholders for the train data and label\n",
    "with train_graph.as_default():\n",
    "    X = tf.placeholder(tf.float32, [None, n_H, n_W, n_C], name = 'input')\n",
    "    Y = tf.placeholder(tf.float32, [None, n_cls], name = 'output')\n",
    "    keep_prob = tf.placeholder(tf.float32, name = 'keep_prob')"
   ]
  },
  {
   "cell_type": "code",
   "execution_count": 72,
   "metadata": {},
   "outputs": [],
   "source": [
    "# Initialize the weights for the convolution layers\n",
    "# shape = [filter_size, filter_size, num_input_channels, num_filters]\n",
    "with train_graph.as_default():\n",
    "    W1 = tf.get_variable(\"W1\", [5, 5, 3, 24], initializer = tf.contrib.layers.xavier_initializer(seed=0))\n",
    "    W2 = tf.get_variable(\"W2\", [5, 5, 24, 36], initializer = tf.contrib.layers.xavier_initializer(seed=0))\n",
    "    W3 = tf.get_variable(\"W3\", [5, 5, 36, 48], initializer = tf.contrib.layers.xavier_initializer(seed=0))\n",
    "    W4 = tf.get_variable(\"W4\", [3, 3, 48, 64], initializer = tf.contrib.layers.xavier_initializer(seed=0))\n",
    "    W5 = tf.get_variable(\"W5\", [3, 3, 64, 64], initializer = tf.contrib.layers.xavier_initializer(seed=0))"
   ]
  },
  {
   "cell_type": "code",
   "execution_count": 73,
   "metadata": {},
   "outputs": [
    {
     "name": "stdout",
     "output_type": "stream",
     "text": [
      "Tensor(\"fc5/BiasAdd:0\", shape=(?, 1), dtype=float32)\n"
     ]
    }
   ],
   "source": [
    "with train_graph.as_default():\n",
    "    # Layer1 - Convolutional\n",
    "    conv_layer1 = tf.nn.conv2d(X, W1, strides=[1, 2, 2, 1], padding='SAME', name = 'conv1')\n",
    "    relu_layer1 = tf.nn.relu(conv_layer1, name = 'relu1')\n",
    "    \n",
    "    # Layer2 - Convolutional\n",
    "    conv_layer2 = tf.nn.conv2d(relu_layer1, W2, strides=[1, 2, 2, 1], padding='SAME', name = 'conv2')\n",
    "    relu_layer2 = tf.nn.relu(conv_layer2, name = 'relu2')\n",
    "\n",
    "    # Layer3 - Convolutional\n",
    "    conv_layer3 = tf.nn.conv2d(relu_layer2, W3, strides=[1, 2, 2, 1], padding='SAME', name = 'conv3')\n",
    "    relu_layer3 = tf.nn.relu(conv_layer3, name = 'relu3')\n",
    "\n",
    "     # Layer4 - Convolutional\n",
    "    conv_layer4 = tf.nn.conv2d(relu_layer3, W4, strides=[1, 1, 1, 1], padding='SAME', name = 'conv4')\n",
    "    relu_layer4 = tf.nn.relu(conv_layer4, name = 'relu4')\n",
    "\n",
    "     # Layer5 - Convolutional\n",
    "    conv_layer5 = tf.nn.conv2d(relu_layer4, W5, strides=[1, 1, 1, 1], padding='SAME', name = 'conv5')\n",
    "    relu_layer5 = tf.nn.relu(conv_layer5, name = 'relu5')\n",
    "    \n",
    "    # Layer6 - Fully_Connected (Don't forget to flatten the previous layer and then apply dropout)\n",
    "    flatten_layer6 = tf.contrib.layers.flatten(relu_layer5)\n",
    "    fc_layer6 = tf.contrib.layers.fully_connected(flatten_layer6, 1164, activation_fn=tf.nn.relu, scope = 'fc1')\n",
    "    dropout6 = tf.nn.dropout(fc_layer6, keep_prob, name = 'dropout1')\n",
    "\n",
    "    # Layer7 - Fully_Connected\n",
    "    fc_layer7 = tf.contrib.layers.fully_connected(dropout6, 100, activation_fn=tf.nn.relu, scope = 'fc2')\n",
    "    dropout7 = tf.nn.dropout(fc_layer6, keep_prob, name = 'dropout2')\n",
    "\n",
    "    # Layer8 - Fully_Connected\n",
    "    fc_layer8 = tf.contrib.layers.fully_connected(dropout7, 50, activation_fn=tf.nn.relu, scope = 'fc3')\n",
    "    dropout8 = tf.nn.dropout(fc_layer6, keep_prob, name = 'dropout3')\n",
    "\n",
    "    # Layer9 - Fully_Connected\n",
    "    fc_layer9 = tf.contrib.layers.fully_connected(dropout8, 10, activation_fn=tf.nn.relu, scope = 'fc4')\n",
    "    dropout9 = tf.nn.dropout(fc_layer6, keep_prob, name = 'dropout4')\n",
    "\n",
    "    # Layer10 - Fully_Connected\n",
    "    fc_layer10 = tf.contrib.layers.fully_connected(dropout9, n_cls, activation_fn=None, scope = 'fc5')\n",
    "    print(fc_layer10)"
   ]
  },
  {
   "cell_type": "code",
   "execution_count": 75,
   "metadata": {},
   "outputs": [],
   "source": [
    "# Use mean square error cost function\n",
    "with train_graph.as_default():\n",
    "    # Use mean squared error as the cost function\n",
    "    cost = tf.losses.mean_squared_error(labels = Y, predictions = fc_layer10)\n",
    "\n",
    "    # Use adam optimizer\n",
    "    optimizer = tf.train.AdamOptimizer(1e-4).minimize(cost)"
   ]
  },
  {
   "cell_type": "code",
   "execution_count": 76,
   "metadata": {},
   "outputs": [],
   "source": [
    "# Funcion: To pick random minibatches to train the model\n",
    "def random_mini_batches(train, labels, batch_size, seed):\n",
    "    # Always change the seed so that we randomize in different order\n",
    "    np.random.seed(seed)\n",
    "    # Make sure we shuffle both the train data and the label in the same order\n",
    "    p = np.random.permutation(len(train))\n",
    "    train = train[p]\n",
    "    labels = labels[p]\n",
    "    train_batches = []\n",
    "    label_batches = []\n",
    "    # Dividing the train data into minibatches\n",
    "    for batch_i in range(0, len(train)//batch_size):\n",
    "        start_i = batch_i * batch_size\n",
    "        train_batch = train[start_i:start_i + batch_size]\n",
    "        label_batch = labels[start_i:start_i + batch_size]\n",
    "        train_batches.append(train_batch)\n",
    "        label_batches.append(label_batch)\n",
    "            \n",
    "    return train_batches, label_batches "
   ]
  },
  {
   "cell_type": "code",
   "execution_count": 77,
   "metadata": {},
   "outputs": [
    {
     "name": "stdout",
     "output_type": "stream",
     "text": [
      "Epoch 0 completed : Time usage 5 minutes\n",
      "\t- Cost after epoch 0: 0.222453\n",
      "Epoch 1 completed : Time usage 4 minutes\n",
      "\t- Cost after epoch 1: 0.120065\n",
      "Epoch 2 completed : Time usage 4 minutes\n",
      "\t- Cost after epoch 2: 0.054746\n",
      "Epoch 3 completed : Time usage 4 minutes\n",
      "\t- Cost after epoch 3: 0.034553\n",
      "Epoch 4 completed : Time usage 5 minutes\n",
      "\t- Cost after epoch 4: 0.023372\n",
      "Epoch 5 completed : Time usage 6 minutes\n",
      "\t- Cost after epoch 5: 0.016400\n",
      "Epoch 6 completed : Time usage 5 minutes\n",
      "\t- Cost after epoch 6: 0.015865\n",
      "Epoch 7 completed : Time usage 5 minutes\n",
      "\t- Cost after epoch 7: 0.015050\n",
      "Epoch 8 completed : Time usage 4 minutes\n",
      "\t- Cost after epoch 8: 0.014369\n",
      "Epoch 9 completed : Time usage 5 minutes\n",
      "\t- Cost after epoch 9: 0.011876\n",
      "Epoch 10 completed : Time usage 5 minutes\n",
      "\t- Cost after epoch 10: 0.010279\n",
      "Epoch 11 completed : Time usage 6 minutes\n",
      "\t- Cost after epoch 11: 0.010778\n",
      "Epoch 12 completed : Time usage 5 minutes\n",
      "\t- Cost after epoch 12: 0.010065\n",
      "Epoch 13 completed : Time usage 5 minutes\n",
      "\t- Cost after epoch 13: 0.010625\n",
      "Epoch 14 completed : Time usage 4 minutes\n",
      "\t- Cost after epoch 14: 0.009788\n",
      "Epoch 15 completed : Time usage 5 minutes\n",
      "\t- Cost after epoch 15: 0.009518\n",
      "Epoch 16 completed : Time usage 5 minutes\n",
      "\t- Cost after epoch 16: 0.008432\n",
      "Epoch 17 completed : Time usage 5 minutes\n",
      "\t- Cost after epoch 17: 0.008861\n",
      "Epoch 18 completed : Time usage 38 minutes\n",
      "\t- Cost after epoch 18: 0.008548\n",
      "Epoch 19 completed : Time usage 5 minutes\n",
      "\t- Cost after epoch 19: 0.008191\n",
      "Epoch 20 completed : Time usage 5 minutes\n",
      "\t- Cost after epoch 20: 0.008455\n",
      "Epoch 21 completed : Time usage 5 minutes\n",
      "\t- Cost after epoch 21: 0.008081\n",
      "Epoch 22 completed : Time usage 6 minutes\n",
      "\t- Cost after epoch 22: 0.007093\n",
      "Epoch 23 completed : Time usage 5 minutes\n",
      "\t- Cost after epoch 23: 0.006906\n",
      "Epoch 24 completed : Time usage 5 minutes\n",
      "\t- Cost after epoch 24: 0.007084\n",
      "Epoch 25 completed : Time usage 4 minutes\n",
      "\t- Cost after epoch 25: 0.006213\n",
      "Epoch 26 completed : Time usage 5 minutes\n",
      "\t- Cost after epoch 26: 0.006658\n",
      "Epoch 27 completed : Time usage 4 minutes\n",
      "\t- Cost after epoch 27: 0.006373\n",
      "Epoch 28 completed : Time usage 4 minutes\n",
      "\t- Cost after epoch 28: 0.006871\n",
      "Epoch 29 completed : Time usage 4 minutes\n",
      "\t- Cost after epoch 29: 0.005718\n"
     ]
    },
    {
     "data": {
      "image/png": "[encoded data removed]",
      "text/plain": [
       "<Figure size 432x288 with 1 Axes>"
      ]
     },
     "metadata": {},
     "output_type": "display_data"
    },
    {
     "name": "stdout",
     "output_type": "stream",
     "text": [
      "Test MSE: 0.2985\n"
     ]
    }
   ],
   "source": [
    "ops.reset_default_graph()\n",
    "tf.set_random_seed(1)\n",
    "\n",
    "# Initialize all the hyperparameters\n",
    "seed = 3\n",
    "num_epochs = 30\n",
    "minibatch_size = 100\n",
    "costs = [] \n",
    "\n",
    "# Training the model\n",
    "with tf.Session(graph=train_graph) as sess:\n",
    "    # Initialize all variables\n",
    "    sess.run(tf.global_variables_initializer())\n",
    "    \n",
    "    # If we want to continue training a previous session\n",
    "    # loader = tf.train.import_meta_graph(\"./\" + CHECKPOINT + '.meta')\n",
    "    # loader.restore(sess, CHECKPOINT)\n",
    "    \n",
    "    # Loop over number of epochs\n",
    "    for epoch in range(num_epochs):\n",
    "        \n",
    "        start_time = time.time()\n",
    "        minibatch_cost = 0\n",
    "        num_minibatches = int(m / minibatch_size)\n",
    "        seed = seed + 1\n",
    "        # Calling the random_mini_batches function to get the batches\n",
    "        train_batches, label_batches = random_mini_batches(train_images, train_labels, minibatch_size, seed)\n",
    "        \n",
    "        # Now train the model for each of that batches and calculate the minibatch cost\n",
    "        for batch_i in range(num_minibatches):\n",
    "            \n",
    "            # Choose the minibatches\n",
    "            minibatch_X = train_batches[batch_i]\n",
    "            minibatch_Y = label_batches[batch_i]\n",
    "            \n",
    "            _ , temp_cost = sess.run([optimizer, cost], feed_dict={X: minibatch_X, Y: minibatch_Y, keep_prob: 0.8})\n",
    "            \n",
    "            minibatch_cost += temp_cost / num_minibatches\n",
    "            \n",
    "        # Print the cost for every epoch\n",
    "        print(\"Epoch \" + str(epoch) + \" completed : Time usage \" + str(int((time.time()-start_time)/60)) + \" minutes\")\n",
    "        print(\"\\t- Cost after epoch %i: %f\" % (epoch, minibatch_cost))\n",
    "        \n",
    "        # Don't forget to save the model\n",
    "        saver = tf.train.Saver() \n",
    "        saver.save(sess, CHECKPOINT)\n",
    "        costs.append(minibatch_cost)\n",
    "            \n",
    "            \n",
    "    # plot the cost\n",
    "    plt.plot(np.squeeze(costs))\n",
    "    plt.ylabel('cost')\n",
    "    plt.xlabel('iterations (per tens)')\n",
    "    plt.show()\n",
    "    \n",
    "    # Calculate MSE for the testing data\n",
    "    test_pred = sess.run(fc_layer6, feed_dict={X: test_images, keep_prob: 1.0})\n",
    "    test_mse = tf.reduce_mean(tf.square(test_pred - test_labels))\n",
    "    print(\"Test MSE: %.4f\" % sess.run(test_mse))"
   ]
  },
  {
   "cell_type": "code",
   "execution_count": null,
   "metadata": {},
   "outputs": [],
   "source": []
  }
 ],
 "metadata": {
  "kernelspec": {
   "display_name": "Python 3",
   "language": "python",
   "name": "python3"
  },
  "language_info": {
   "codemirror_mode": {
    "name": "ipython",
    "version": 3
   },
   "file_extension": ".py",
   "mimetype": "text/x-python",
   "name": "python",
   "nbconvert_exporter": "python",
   "pygments_lexer": "ipython3",
   "version": "3.6.4"
  }
 },
 "nbformat": 4,
 "nbformat_minor": 2
}
